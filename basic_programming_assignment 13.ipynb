{
  "nbformat": 4,
  "nbformat_minor": 0,
  "metadata": {
    "colab": {
      "name": "basic_programming_assignment 13.ipynb",
      "provenance": []
    },
    "kernelspec": {
      "name": "python3",
      "display_name": "Python 3"
    },
    "language_info": {
      "name": "python"
    }
  },
  "cells": [
    {
      "cell_type": "markdown",
      "metadata": {
        "id": "YQ_x2E9U3GI6"
      },
      "source": [
        "Write a program that calculates and prints the value according to the given formula:\n",
        "Q = Square root of [(2 * C * D)/H]\n",
        "Following are the fixed values of C and H:\n",
        "C is 50. H is 30.\n",
        "D is the variable whose values should be input to your program in a comma-separated\n",
        "sequence. \n",
        "Example\n",
        "Let us assume the following comma separated input sequence is given to the program:\n",
        "100,150,180\n",
        "The output of the program should be:\n",
        "18,22,24"
      ]
    },
    {
      "cell_type": "code",
      "metadata": {
        "colab": {
          "base_uri": "https://localhost:8080/"
        },
        "id": "6qoAMwey3Ked",
        "outputId": "e3306dc5-ddc8-4fc6-900a-e24a0293fa2f"
      },
      "source": [
        "a=input(\"Enter the input values \")\n",
        "b=a.split(\",\")\n",
        "a1=\" \"\n",
        "for i in b:\n",
        "  c=int(i)\n",
        "  k=int(((2*50*c)/30)**0.5)\n",
        "  if (b.index(i)+1)==len(b):\n",
        "    print(k)\n",
        "  else:\n",
        "    print(k,end=\",\")\n"
      ],
      "execution_count": 1,
      "outputs": [
        {
          "output_type": "stream",
          "text": [
            "Enter the input values 100,150,180\n",
            "18,22,24\n"
          ],
          "name": "stdout"
        }
      ]
    },
    {
      "cell_type": "markdown",
      "metadata": {
        "id": "mVGpwpau7IKU"
      },
      "source": [
        "Write a program which takes 2 digits, X,Y as input and generates a 2-dimensional array. The\n",
        "element value in the i-th row and j-th column of the array should be i*j.\n",
        "Note: i=0,1.., X-1; j=0,1,¡Y-1. \n",
        "Example\n",
        "Suppose the following inputs are given to the program:\n",
        "3,5\n",
        "Then, the output of the program should be:\n",
        "[[0, 0, 0, 0, 0], [0, 1, 2, 3, 4], [0, 2, 4, 6, 8]]"
      ]
    },
    {
      "cell_type": "code",
      "metadata": {
        "colab": {
          "base_uri": "https://localhost:8080/"
        },
        "id": "9-bniBW37mXf",
        "outputId": "20df8a39-4124-4be0-8f5b-e2c0db4bbe4e"
      },
      "source": [
        "a=int(input(\"Enter the no of rows \"))\n",
        "b=int(input(\"Enter the no of columns \"))\n",
        "c=[]\n",
        "d=[]\n",
        "for i in range(a):\n",
        "  for j in range(b):\n",
        "    k=i*j\n",
        "    d.append(k)\n",
        "  c.append(d)  \n",
        "  d=[]\n",
        "print(c) "
      ],
      "execution_count": 2,
      "outputs": [
        {
          "output_type": "stream",
          "text": [
            "Enter the no of rows 3\n",
            "Enter the no of columns 5\n",
            "[[0, 0, 0, 0, 0], [0, 1, 2, 3, 4], [0, 2, 4, 6, 8]]\n"
          ],
          "name": "stdout"
        }
      ]
    },
    {
      "cell_type": "markdown",
      "metadata": {
        "id": "DuAsHA348cc4"
      },
      "source": [
        "Write a program that accepts a comma separated sequence of words as input and prints the\n",
        "words in a comma-separated sequence after sorting them alphabetically.\n",
        "Suppose the following input is supplied to the program:\n",
        "without,hello,bag,world\n",
        "Then, the output should be:\n",
        "bag,hello,without,world"
      ]
    },
    {
      "cell_type": "code",
      "metadata": {
        "colab": {
          "base_uri": "https://localhost:8080/"
        },
        "id": "szPmolb98ib_",
        "outputId": "31df9c36-1313-4d9d-b5cf-5c4d8a92a2cb"
      },
      "source": [
        "a=input(\"Enter input \")\n",
        "b=a.split(\",\")\n",
        "b.sort()\n",
        "for i in b:\n",
        "  if (b.index(i)+1)==len(b):\n",
        "    print(i)\n",
        "  else:\n",
        "    print(i,end=\",\")"
      ],
      "execution_count": 3,
      "outputs": [
        {
          "output_type": "stream",
          "text": [
            "Enter input without,hello,bag,world\n",
            "bag,hello,without,world\n"
          ],
          "name": "stdout"
        }
      ]
    },
    {
      "cell_type": "markdown",
      "metadata": {
        "id": "WmFAiAUdSTgX"
      },
      "source": [
        "Write a program that accepts a sequence of whitespace separated words as input and prints\n",
        "the words after removing all duplicate words and sorting them alphanumerically.\n",
        "Suppose the following input is supplied to the program:\n",
        "hello world and practice makes perfect and hello world again\n",
        "Then, the output should be:\n",
        "again and hello makes perfect practice world. "
      ]
    },
    {
      "cell_type": "code",
      "metadata": {
        "colab": {
          "base_uri": "https://localhost:8080/"
        },
        "id": "vTEjzWSWSWRI",
        "outputId": "597b380d-bc28-49ba-a8f4-563f36debf8a"
      },
      "source": [
        "a=input(\"Enter the input \")\n",
        "b=a.split(\" \")\n",
        "c=set(b)\n",
        "d=list(c)\n",
        "d.sort()\n",
        "for i in d:\n",
        "  print(i,end=\" \")"
      ],
      "execution_count": 4,
      "outputs": [
        {
          "output_type": "stream",
          "text": [
            "Enter the input hello world and practice makes perfect and hello world again \n",
            " again and hello makes perfect practice world "
          ],
          "name": "stdout"
        }
      ]
    },
    {
      "cell_type": "markdown",
      "metadata": {
        "id": "DjnpSLO5ThuC"
      },
      "source": [
        "Write a program that accepts a sentence and calculate the number of letters and digits.\n",
        "Suppose the following input is supplied to the program:\n",
        "hello world! 123\n",
        "Then, the output should be:\n",
        "LETTERS 10\n",
        "DIGITS 3"
      ]
    },
    {
      "cell_type": "code",
      "metadata": {
        "id": "eLRrnsKVTifJ",
        "colab": {
          "base_uri": "https://localhost:8080/"
        },
        "outputId": "252f999c-cab8-459d-84cd-08d02c4906cf"
      },
      "source": [
        "import string\n",
        "a1=string.ascii_letters\n",
        "b1=string.digits\n",
        "a=input(\"Enter input :\")\n",
        "b=0\n",
        "c=0\n",
        "for i in a:\n",
        "  if i in a1:\n",
        "    b=b+1\n",
        "  elif i in b1:\n",
        "    c=c+1\n",
        "  else:\n",
        "    continue\n",
        "print(\"LETTERS \",b)\n",
        "print(\"DIGITS \",c)     \n",
        "\n",
        "\n"
      ],
      "execution_count": 5,
      "outputs": [
        {
          "output_type": "stream",
          "text": [
            "Enter input :hello world! 123\n",
            "LETTERS  10\n",
            "DIGITS  3\n"
          ],
          "name": "stdout"
        }
      ]
    },
    {
      "cell_type": "markdown",
      "metadata": {
        "id": "m4MosLO1V12b"
      },
      "source": [
        "A website requires the users to input username and password to register. Write a program to\n",
        "check the validity of password input by users.\n",
        "Following are the criteria for checking the password:\n",
        "1. At least 1 letter between [a-z]\n",
        "2. At least 1 number between [0-9]\n",
        "1. At least 1 letter between [A-Z]\n",
        "3. At least 1 character from [$#@]\n",
        "4. Minimum length of transaction password: 6\n",
        "5. Maximum length of transaction password: 12\n",
        "Your program should accept a sequence of comma separated passwords and will check them\n",
        "according to the above criteria. Passwords that match the criteria are to be printed, each\n",
        "separated by a comma.\n",
        "Example\n",
        "If the following passwords are given as input to the program:\n",
        "ABd1234@1,a F1#,2w3E*,2We3345\n",
        "Then, the output of the program should be:\n",
        "ABd1234@1"
      ]
    },
    {
      "cell_type": "code",
      "metadata": {
        "colab": {
          "base_uri": "https://localhost:8080/"
        },
        "id": "iHv53bunV-pO",
        "outputId": "e179a924-be23-467d-b1b6-476c5f7ac8e9"
      },
      "source": [
        "import string\n",
        "a1=string.ascii_lowercase\n",
        "b1=string.ascii_uppercase\n",
        "c1=string.digits\n",
        "d1=['$','#','@']\n",
        "a=0\n",
        "b=0\n",
        "c=0\n",
        "d=0\n",
        "e=0\n",
        "a2=input(\"Enter input : \")\n",
        "b2=a2.split(\",\")\n",
        "for i in b2:\n",
        "  for j in i:\n",
        "    if j in a1:\n",
        "      a=a+1\n",
        "    if j in a1:\n",
        "      b=b+1\n",
        "    if j in c1:\n",
        "      c=c+1  \n",
        "    if j in d1:\n",
        "      d=d+1\n",
        "  if len(i)>=6 and len(i)<=12:\n",
        "    e=e+1\n",
        "  if a>0 and b>0:\n",
        "    if c>0 and d>0:\n",
        "      if e==1:\n",
        "        print(i)\n",
        "  a=0\n",
        "  b=0\n",
        "  c=0\n",
        "  d=0\n",
        "  e=0\n"
      ],
      "execution_count": 6,
      "outputs": [
        {
          "output_type": "stream",
          "text": [
            "Enter input : ABd1234@1,a F1#,2w3E*,2We3345\n",
            "ABd1234@1\n"
          ],
          "name": "stdout"
        }
      ]
    }
  ]
}