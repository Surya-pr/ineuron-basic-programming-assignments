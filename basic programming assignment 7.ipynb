{
  "nbformat": 4,
  "nbformat_minor": 0,
  "metadata": {
    "colab": {
      "name": "Untitled8.ipynb",
      "provenance": []
    },
    "kernelspec": {
      "name": "python3",
      "display_name": "Python 3"
    },
    "language_info": {
      "name": "python"
    }
  },
  "cells": [
    {
      "cell_type": "markdown",
      "metadata": {
        "id": "AsQjcHuPB8I8"
      },
      "source": [
        "**Write a Python Program to find sum of array?**"
      ]
    },
    {
      "cell_type": "code",
      "metadata": {
        "colab": {
          "base_uri": "https://localhost:8080/"
        },
        "id": "sYGGqJe0CCY7",
        "outputId": "430c02fa-7060-4a98-aeeb-be61f764d881"
      },
      "source": [
        "a=int(input(\"Enter the number of terms \"))\n",
        "b=[]\n",
        "c=0\n",
        "for i in range(a):\n",
        "  b.append(int(input()))\n",
        "  c=c+b[i]\n",
        "print(\"Sum of array elements is: \",c)\n"
      ],
      "execution_count": 1,
      "outputs": [
        {
          "output_type": "stream",
          "text": [
            "Enter the number of terms 4\n",
            "1\n",
            "2\n",
            "3\n",
            "4\n",
            "Sum of array elements is:  10\n"
          ],
          "name": "stdout"
        }
      ]
    },
    {
      "cell_type": "markdown",
      "metadata": {
        "id": "Z9_ZdljhH32R"
      },
      "source": [
        "**Write a Python Program to find largest element in an array?**"
      ]
    },
    {
      "cell_type": "code",
      "metadata": {
        "colab": {
          "base_uri": "https://localhost:8080/"
        },
        "id": "Rrg3zH9DH97p",
        "outputId": "eee721aa-540f-45d4-ab7a-2914f2064344"
      },
      "source": [
        "a=int(input(\"Enter the number of terms \"))\n",
        "b=[]\n",
        "c=0\n",
        "for i in range(a):\n",
        "  b.append(int(input()))\n",
        "  if b[i]>c:\n",
        "    c=b[i]\n",
        "print(\"Largest element in array is: \",c)\n"
      ],
      "execution_count": 2,
      "outputs": [
        {
          "output_type": "stream",
          "text": [
            "Enter the number of terms 4\n",
            "1\n",
            "2\n",
            "3\n",
            "4\n",
            "Largest element in array is:  4\n"
          ],
          "name": "stdout"
        }
      ]
    },
    {
      "cell_type": "markdown",
      "metadata": {
        "id": "lLjQ739-JBed"
      },
      "source": [
        "**Write a Python Program for array rotation?**"
      ]
    },
    {
      "cell_type": "code",
      "metadata": {
        "colab": {
          "base_uri": "https://localhost:8080/"
        },
        "id": "ri6eppuRJGKm",
        "outputId": "9fd28c17-1876-45a9-d7de-ec41b29f435c"
      },
      "source": [
        "a1=int(input(\"Enter the numbers of terms to be rotated \"))\n",
        "a=int(input(\"Enter the number of terms in array \"))\n",
        "b=[]\n",
        "b1=[]\n",
        "c=0\n",
        "for i in range(a):\n",
        "  if (i<a1):\n",
        "    b.append(int(input()))\n",
        "  else:\n",
        "    b1.append(int(input()))\n",
        "d=b1+b\n",
        "print(\"Array after rotation : \",d)\n"
      ],
      "execution_count": 3,
      "outputs": [
        {
          "output_type": "stream",
          "text": [
            "Enter the numbers of terms to be rotated 2\n",
            "Enter the number of terms in array 4\n",
            "1\n",
            "2\n",
            "3\n",
            "4\n",
            "Array after rotation :  [3, 4, 1, 2]\n"
          ],
          "name": "stdout"
        }
      ]
    },
    {
      "cell_type": "markdown",
      "metadata": {
        "id": "6IT-BcmmLL2w"
      },
      "source": [
        "**Write a Python Program to Split the array and add the first part to the end?**"
      ]
    },
    {
      "cell_type": "code",
      "metadata": {
        "id": "UMoY1XspLO_w",
        "outputId": "4a7e2a25-cb72-44f5-cec0-6da7b7e1fe36",
        "colab": {
          "base_uri": "https://localhost:8080/"
        }
      },
      "source": [
        "a1=int(input(\"Enter the value of how many terms after the array to be spitted \"))\n",
        "a=int(input(\"Enter the number of terms in array \"))\n",
        "b=[]\n",
        "b1=[]\n",
        "c=0\n",
        "for i in range(a):\n",
        "  if (i<a1):\n",
        "    b.append(int(input()))\n",
        "  else:\n",
        "    b1.append(int(input()))\n",
        "d=b1+b\n",
        "print(\"Array after splitting : \",d)\n"
      ],
      "execution_count": 4,
      "outputs": [
        {
          "output_type": "stream",
          "text": [
            "Enter the value of how many terms after the array to be spitted 3\n",
            "Enter the number of terms in array 6\n",
            "1\n",
            "2\n",
            "3\n",
            "4\n",
            "5\n",
            "6\n",
            "Array after splitting :  [4, 5, 6, 1, 2, 3]\n"
          ],
          "name": "stdout"
        }
      ]
    },
    {
      "cell_type": "markdown",
      "metadata": {
        "id": "xLMnj7VPMChJ"
      },
      "source": [
        "**Write a Python Program to check if given array is Monotonic?**"
      ]
    },
    {
      "cell_type": "code",
      "metadata": {
        "id": "KMxqZ7MZMEXD",
        "outputId": "0b9f1e0b-6505-4fed-c223-b26ba8a73ad4",
        "colab": {
          "base_uri": "https://localhost:8080/"
        }
      },
      "source": [
        "a=int(input(\"Enter the number of terms in array \"))\n",
        "b=[]\n",
        "for i in range(a):\n",
        "  b.append(int(input()))\n",
        "if (all(b[i]<=b[i+1] for i in range(a-1)) or all(b[i]>=b[i+1 ] for i in range(a-1))):\n",
        "  print(\"Monotonic\")\n",
        "else:\n",
        "  print(\"Not monotonic\")"
      ],
      "execution_count": 5,
      "outputs": [
        {
          "output_type": "stream",
          "text": [
            "Enter the number of terms in array 6\n",
            "1\n",
            "2\n",
            "3\n",
            "3\n",
            "4\n",
            "1\n",
            "Not monotonic\n"
          ],
          "name": "stdout"
        }
      ]
    }
  ]
}