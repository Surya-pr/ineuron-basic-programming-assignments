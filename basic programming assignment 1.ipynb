{
  "nbformat": 4,
  "nbformat_minor": 0,
  "metadata": {
    "colab": {
      "name": "Untitled7.ipynb",
      "provenance": []
    },
    "kernelspec": {
      "name": "python3",
      "display_name": "Python 3"
    },
    "language_info": {
      "name": "python"
    }
  },
  "cells": [
    {
      "cell_type": "markdown",
      "metadata": {
        "id": "VNCOemtcZXWd"
      },
      "source": [
        "**Write a Python program to print &quot;Hello Python&quot;?**\n"
      ]
    },
    {
      "cell_type": "code",
      "metadata": {
        "colab": {
          "base_uri": "https://localhost:8080/"
        },
        "id": "sCPYcutWZZXi",
        "outputId": "4ed10a62-83e3-4440-8fce-829e93248cc0"
      },
      "source": [
        "print('Hello Python')"
      ],
      "execution_count": 1,
      "outputs": [
        {
          "output_type": "stream",
          "text": [
            "Hello Python\n"
          ],
          "name": "stdout"
        }
      ]
    },
    {
      "cell_type": "code",
      "metadata": {
        "colab": {
          "base_uri": "https://localhost:8080/"
        },
        "id": "RrWhK-gLZhDc",
        "outputId": "fa2a488e-e087-41d1-fe20-8b1767d4c6ed"
      },
      "source": [
        "print('\"Hello Python\"')"
      ],
      "execution_count": 2,
      "outputs": [
        {
          "output_type": "stream",
          "text": [
            "\"Hello Python\"\n"
          ],
          "name": "stdout"
        }
      ]
    },
    {
      "cell_type": "markdown",
      "metadata": {
        "id": "cvxb16QRZ7gd"
      },
      "source": [
        "**Write a Python program to do arithmetical operations addition and division.?**"
      ]
    },
    {
      "cell_type": "code",
      "metadata": {
        "colab": {
          "base_uri": "https://localhost:8080/"
        },
        "id": "IZmHyXtSZ8RR",
        "outputId": "7d5b3957-f04f-4e9d-fc13-3cea3b1624c2"
      },
      "source": [
        "# operations on two integers:\n",
        "\n",
        "a=10\n",
        "b=5\n",
        "addition_operation = a+b\n",
        "division_operation = a/b\n",
        "print(addition_operation)\n",
        "print(division_operation)\n"
      ],
      "execution_count": 5,
      "outputs": [
        {
          "output_type": "stream",
          "text": [
            "15\n",
            "2.0\n"
          ],
          "name": "stdout"
        }
      ]
    },
    {
      "cell_type": "markdown",
      "metadata": {
        "id": "QA6cngWla_sH"
      },
      "source": [
        "**Write a Python program to find the area of a triangle?**"
      ]
    },
    {
      "cell_type": "code",
      "metadata": {
        "colab": {
          "base_uri": "https://localhost:8080/"
        },
        "id": "sUdd_4B5bBU9",
        "outputId": "0d091b2c-e649-46bb-81cc-2edcf6f546b1"
      },
      "source": [
        "a = float(input('Enter the first side of triangle '))\n",
        "b = float(input('Enter the second side of triangle '))\n",
        "c = float(input('Enter the third side of triangle '))\n",
        "d = (a + b + c) / 2   \n",
        "area = (d*(d-a)*(d-b)*(d-c)) ** 0.5  \n",
        "print(\"Area of Triangle is \", area)   "
      ],
      "execution_count": 6,
      "outputs": [
        {
          "output_type": "stream",
          "text": [
            "Enter the first side of triangle 10.1\n",
            "Enter the second side of triangle 10.1\n",
            "Enter the third side of triangle 10.1\n",
            "Area of Triangle is  44.171625720025276\n"
          ],
          "name": "stdout"
        }
      ]
    },
    {
      "cell_type": "markdown",
      "metadata": {
        "id": "1v6zg3g_cbeP"
      },
      "source": [
        "**Write a Python program to swap two variables?**"
      ]
    },
    {
      "cell_type": "code",
      "metadata": {
        "colab": {
          "base_uri": "https://localhost:8080/"
        },
        "id": "Zl4VoZWHchSh",
        "outputId": "6f6ee481-3916-406c-dc11-ec3e56113493"
      },
      "source": [
        "# swaping two integer variables:\n",
        "\n",
        "x=int(input(\"Enter the first variable \"))\n",
        "y=int(input(\"Enter the second variable \"))\n",
        "x = x * y\n",
        "y = x / y\n",
        "x = x / y\n",
        "print(int(x))\n",
        "print(int(y))"
      ],
      "execution_count": 10,
      "outputs": [
        {
          "output_type": "stream",
          "text": [
            "Enter the first variable 10\n",
            "Enter the second variable 5\n",
            "5\n",
            "10\n"
          ],
          "name": "stdout"
        }
      ]
    },
    {
      "cell_type": "markdown",
      "metadata": {
        "id": "fuMpqcwpeUc6"
      },
      "source": [
        "**Write a Python program to generate a random number?**"
      ]
    },
    {
      "cell_type": "code",
      "metadata": {
        "colab": {
          "base_uri": "https://localhost:8080/"
        },
        "id": "fNZI-q4Sefwc",
        "outputId": "7c9b113a-425a-4b1d-920f-13bb73180869"
      },
      "source": [
        "import random\n",
        "a=int(input(\"Enter starting point \"))\n",
        "b=int(input(\"Enter ending point \"))\n",
        "print(random.random()) # printing random number between 0 to 1\n",
        "print(random.randrange(a,b))"
      ],
      "execution_count": 20,
      "outputs": [
        {
          "output_type": "stream",
          "text": [
            "Enter starting point 30\n",
            "Enter ending point 50\n",
            "0.20850645639829413\n",
            "40\n"
          ],
          "name": "stdout"
        }
      ]
    }
  ]
}