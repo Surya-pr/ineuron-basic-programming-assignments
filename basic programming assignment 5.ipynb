{
  "nbformat": 4,
  "nbformat_minor": 0,
  "metadata": {
    "colab": {
      "name": "Untitled8.ipynb",
      "provenance": []
    },
    "kernelspec": {
      "name": "python3",
      "display_name": "Python 3"
    },
    "language_info": {
      "name": "python"
    }
  },
  "cells": [
    {
      "cell_type": "markdown",
      "metadata": {
        "id": "9DcbdPnOXtFi"
      },
      "source": [
        "**Write a Python Program to Find LCM?**"
      ]
    },
    {
      "cell_type": "code",
      "metadata": {
        "colab": {
          "base_uri": "https://localhost:8080/"
        },
        "id": "dj9xU1g2Xv4O",
        "outputId": "7b50c5f6-1b75-4042-c63e-91243f8759b6"
      },
      "source": [
        "a=int(input(\"Enter the first number \"))\n",
        "b=int(input(\"Enter the second number \"))\n",
        "large_number=a\n",
        "if a<b:\n",
        "  large_number=b\n",
        "while(True):\n",
        "  if(large_number%a ==0) and (large_number%b ==0):\n",
        "    break\n",
        "  large_number+=1\n",
        "print(large_number)\n"
      ],
      "execution_count": 1,
      "outputs": [
        {
          "output_type": "stream",
          "text": [
            "Enter the first number 20\n",
            "Enter the second number 30\n",
            "60\n"
          ],
          "name": "stdout"
        }
      ]
    },
    {
      "cell_type": "markdown",
      "metadata": {
        "id": "rXf0dX4dgkTx"
      },
      "source": [
        "**Write a Python Program to Find HCF?**"
      ]
    },
    {
      "cell_type": "code",
      "metadata": {
        "colab": {
          "base_uri": "https://localhost:8080/"
        },
        "id": "Apza1bX1guFZ",
        "outputId": "5d53060c-8e0d-4476-9f53-9ad1a71a02db"
      },
      "source": [
        "a=int(input(\"Enter the first number \"))\n",
        "b=int(input(\"Enter the second number \"))\n",
        "small_number=a\n",
        "if a>b:\n",
        "  small_number=b\n",
        "for i in range(1,small_number+1):\n",
        "  if(a%i ==0) and (b%i ==0):\n",
        "    c=i\n",
        "print(c)\n"
      ],
      "execution_count": 5,
      "outputs": [
        {
          "output_type": "stream",
          "text": [
            "Enter the first number 20\n",
            "Enter the second number 30\n",
            "10\n"
          ],
          "name": "stdout"
        }
      ]
    },
    {
      "cell_type": "markdown",
      "metadata": {
        "id": "70Nv0jOih5gE"
      },
      "source": [
        "**Write a Python Program to Convert Decimal to Binary, Octal and Hexadecimal?**"
      ]
    },
    {
      "cell_type": "code",
      "metadata": {
        "colab": {
          "base_uri": "https://localhost:8080/"
        },
        "id": "UIHKxxzHh92A",
        "outputId": "8b1078eb-7d63-49bc-dda4-dab5c031bdf2"
      },
      "source": [
        "a=int(input(\"Enter the decimal number \"))\n",
        "b=bin(a)  # decimal to binary \n",
        "c=oct(a)  # dicimal to octal\n",
        "d=hex(a) # decimal to hexadecimal\n",
        "print(\"Binary:\",b)\n",
        "print(\"Octal:\",c)\n",
        "print(\"Hexadecimal:\",d)"
      ],
      "execution_count": 6,
      "outputs": [
        {
          "output_type": "stream",
          "text": [
            "Enter the decimal number 190\n",
            "Binary: 0b10111110\n",
            "Octal: 0o276\n",
            "Hexadecimal: 0xbe\n"
          ],
          "name": "stdout"
        }
      ]
    },
    {
      "cell_type": "markdown",
      "metadata": {
        "id": "Pfqy8Sb3i5CM"
      },
      "source": [
        "**Write a Python Program To Find ASCII value of a character?**"
      ]
    },
    {
      "cell_type": "code",
      "metadata": {
        "colab": {
          "base_uri": "https://localhost:8080/"
        },
        "id": "fhS0sRNvjUGn",
        "outputId": "314eede5-2241-4f4f-b825-ac696b81b8d4"
      },
      "source": [
        "a=input(\"Enter the Input character \")\n",
        "b=ord(a)\n",
        "print(\"ASCII value of character is : \",b)"
      ],
      "execution_count": 7,
      "outputs": [
        {
          "output_type": "stream",
          "text": [
            "Enter the Input character A\n",
            "ASCII value of character is :  65\n"
          ],
          "name": "stdout"
        }
      ]
    },
    {
      "cell_type": "markdown",
      "metadata": {
        "id": "xLJNjo25xtVz"
      },
      "source": [
        "**Write a Python Program to Make a Simple Calculator with 4 basic mathematical operations?**"
      ]
    },
    {
      "cell_type": "code",
      "metadata": {
        "colab": {
          "base_uri": "https://localhost:8080/"
        },
        "id": "9XAmzgK6xyAN",
        "outputId": "04293689-fd55-4999-8a88-1a16c7a294b3"
      },
      "source": [
        "a=float(input(\"Enter the first digit \"))\n",
        "b=float(input(\"Enter the second digit \"))\n",
        "c=input(\"Enter the operation whether addition division multiplication subtration \")\n",
        "if c.lower()==\"addition\":\n",
        "  print(a+b)\n",
        "elif c.lower()==\"subtration\":\n",
        "  print(abs(a-b))\n",
        "elif c.lower()==\"division\":\n",
        "  print(a/b)\n",
        "elif c.lower()==\"multiplication\":\n",
        "  print(a*b)\n",
        "else:\n",
        "  print(\"invalid operation\")\n"
      ],
      "execution_count": 8,
      "outputs": [
        {
          "output_type": "stream",
          "text": [
            "Enter the first digit 10\n",
            "Enter the second digit 2\n",
            "Enter the operation whether addition division multiplication subtration MULTIPLICATION\n",
            "20.0\n"
          ],
          "name": "stdout"
        }
      ]
    }
  ]
}