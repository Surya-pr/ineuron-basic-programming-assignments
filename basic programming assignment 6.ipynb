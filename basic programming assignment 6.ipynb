{
  "nbformat": 4,
  "nbformat_minor": 0,
  "metadata": {
    "colab": {
      "name": "Untitled8.ipynb",
      "provenance": []
    },
    "kernelspec": {
      "name": "python3",
      "display_name": "Python 3"
    },
    "language_info": {
      "name": "python"
    }
  },
  "cells": [
    {
      "cell_type": "markdown",
      "metadata": {
        "id": "PggUbTDyLw-w"
      },
      "source": [
        "**Write a Python Program to Display Fibonacci Sequence Using Recursion?**"
      ]
    },
    {
      "cell_type": "code",
      "metadata": {
        "colab": {
          "base_uri": "https://localhost:8080/"
        },
        "id": "L6GvRpAQL0Ot",
        "outputId": "2706b214-182e-41d8-aabb-9c13b58b0a51"
      },
      "source": [
        "a=int(input(\"Enter the number of terms \"))\n",
        "print(\"Fibonacci Sequence Using Recursion: \",end=\" \")\n",
        "def test1(a):\n",
        "  if a<=1:\n",
        "    return a\n",
        "  else:\n",
        "    return (test1(a-1)+test1(a-2))\n",
        "for i in range(a):\n",
        "  print(test1(i),end=\" \")\n"
      ],
      "execution_count": 1,
      "outputs": [
        {
          "output_type": "stream",
          "text": [
            "Enter the number of terms 10\n",
            "Fibonacci Sequence Using Recursion:  0 1 1 2 3 5 8 13 21 34 "
          ],
          "name": "stdout"
        }
      ]
    },
    {
      "cell_type": "markdown",
      "metadata": {
        "id": "WEGVFwXOL1c9"
      },
      "source": [
        "**Write a Python Program to Find Factorial of Number Using Recursion?**"
      ]
    },
    {
      "cell_type": "code",
      "metadata": {
        "colab": {
          "base_uri": "https://localhost:8080/"
        },
        "id": "eVoLansiL4xS",
        "outputId": "eb74759b-2c9d-4ac9-d7c8-6cca46072f7b"
      },
      "source": [
        "a=int(input(\"Enter the input value \"))\n",
        "def test(a):\n",
        "  if a==1:\n",
        "    return a\n",
        "  else:\n",
        "    return (a*test(a-1))\n",
        "b=test(a)\n",
        "print(\"Factorial of %d Using Recursion is :\"%a,b)"
      ],
      "execution_count": 2,
      "outputs": [
        {
          "output_type": "stream",
          "text": [
            "Enter the input value 10\n",
            "Factorial of 10 Using Recursion is : 3628800\n"
          ],
          "name": "stdout"
        }
      ]
    },
    {
      "cell_type": "markdown",
      "metadata": {
        "id": "RTQOXWYVrCLn"
      },
      "source": [
        "**Write a Python Program to calculate your Body Mass Index?**"
      ]
    },
    {
      "cell_type": "code",
      "metadata": {
        "colab": {
          "base_uri": "https://localhost:8080/"
        },
        "id": "AiC6GvExrGVo",
        "outputId": "6e527686-ddfa-4101-f42b-ec2625768084"
      },
      "source": [
        "a=float(input(\"Enter Height value in centimeters \"))\n",
        "b=float(input(\"Enter Weight value in kilograms \"))\n",
        "c=a/100\n",
        "d=b/(c*c)\n",
        "print(\"Body Mass Index value is {:.4f}  \".format(d))"
      ],
      "execution_count": 3,
      "outputs": [
        {
          "output_type": "stream",
          "text": [
            "Enter Height value in centimeters 188\n",
            "Enter Weight value in kilograms 66\n",
            "Body Mass Index value is 18.6736  \n"
          ],
          "name": "stdout"
        }
      ]
    },
    {
      "cell_type": "markdown",
      "metadata": {
        "id": "FShs8ruCs2Tu"
      },
      "source": [
        "**Write a Python Program to calculate the natural logarithm of any number?**"
      ]
    },
    {
      "cell_type": "code",
      "metadata": {
        "colab": {
          "base_uri": "https://localhost:8080/"
        },
        "id": "8HG9UX3Cs3vN",
        "outputId": "e941f4e9-b581-47a8-d727-c02c5dd264f2"
      },
      "source": [
        "import math\n",
        "a=float(input(\"Enter the input value \"))\n",
        "b=math.log(a)\n",
        "print(\"Natural logarithm of %f is: \"%a,b)\n"
      ],
      "execution_count": 4,
      "outputs": [
        {
          "output_type": "stream",
          "text": [
            "Enter the input value 8.55\n",
            "Natural logarithm of 8.550000 is:  2.145931282948669\n"
          ],
          "name": "stdout"
        }
      ]
    },
    {
      "cell_type": "markdown",
      "metadata": {
        "id": "xgTY-kKYvlzp"
      },
      "source": [
        "**Write a Python Program for cube sum of first n natural numbers?**"
      ]
    },
    {
      "cell_type": "code",
      "metadata": {
        "colab": {
          "base_uri": "https://localhost:8080/"
        },
        "id": "VGpPIMapvnqs",
        "outputId": "fdde723b-87bf-419c-ef67-1f3adce21d66"
      },
      "source": [
        "a=int(input(\"Enter the input value \"))\n",
        "b=0\n",
        "for i in range(a+1):\n",
        "  b=b+i**3\n",
        "print(\"Cube sum of first %d natural numbers is :\"%a, b)\n"
      ],
      "execution_count": 5,
      "outputs": [
        {
          "output_type": "stream",
          "text": [
            "Enter the input value 5\n",
            "Cube sum of first 5 natural numbers is : 225\n"
          ],
          "name": "stdout"
        }
      ]
    }
  ]
}