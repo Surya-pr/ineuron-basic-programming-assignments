{
  "nbformat": 4,
  "nbformat_minor": 0,
  "metadata": {
    "colab": {
      "name": "basic programming assignment 12.ipynb",
      "provenance": []
    },
    "kernelspec": {
      "name": "python3",
      "display_name": "Python 3"
    },
    "language_info": {
      "name": "python"
    }
  },
  "cells": [
    {
      "cell_type": "markdown",
      "metadata": {
        "id": "-XPisjQxoBq5"
      },
      "source": [
        "**Write a Python program to Extract Unique values dictionary values?**"
      ]
    },
    {
      "cell_type": "code",
      "metadata": {
        "colab": {
          "base_uri": "https://localhost:8080/"
        },
        "id": "RByf4FTlrl6a",
        "outputId": "f2de801c-5d69-450a-b716-7b8b99b7de63"
      },
      "source": [
        "a1={'a':1, 'b':2,'c':3,'d':4,'e':5,'f':1,'g':2, 'h':3}\n",
        "b=[]\n",
        "for i in a1.values():\n",
        "  if i in b:\n",
        "    continue\n",
        "  else:\n",
        "    b.append(i)\n",
        "print(\"Unique dictionary values are :\",b)   "
      ],
      "execution_count": 1,
      "outputs": [
        {
          "output_type": "stream",
          "text": [
            "Unique dictionary values are : [1, 2, 3, 4, 5]\n"
          ],
          "name": "stdout"
        }
      ]
    },
    {
      "cell_type": "markdown",
      "metadata": {
        "id": "QP1RZTWstIro"
      },
      "source": [
        "**Write a Python program to find the sum of all items in a dictionary?**"
      ]
    },
    {
      "cell_type": "code",
      "metadata": {
        "colab": {
          "base_uri": "https://localhost:8080/"
        },
        "id": "DIvTpMbUtMAo",
        "outputId": "bd074efb-2b71-4c2e-c593-c779ceda2882"
      },
      "source": [
        "a1={'a':1, 'b':2,'c':3,'d':4,'e':5,'f':1,'g':2, 'h':3}\n",
        "b=0\n",
        "for i in a1.values():\n",
        "  b=b+i\n",
        "print(\"Sum of all items in a dictionary is \",b)   "
      ],
      "execution_count": 2,
      "outputs": [
        {
          "output_type": "stream",
          "text": [
            "Sum of all items in a dictionary is  21\n"
          ],
          "name": "stdout"
        }
      ]
    },
    {
      "cell_type": "markdown",
      "metadata": {
        "id": "cdvodmLKtiQc"
      },
      "source": [
        "**Write a Python program to Merging two Dictionaries?**"
      ]
    },
    {
      "cell_type": "code",
      "metadata": {
        "colab": {
          "base_uri": "https://localhost:8080/"
        },
        "id": "gAg1vpjvtlXU",
        "outputId": "84e3bb6f-9545-4987-d74a-acaccb0bf946"
      },
      "source": [
        "a={'a':1, 'b':2,'c':3,'d':4,'e':5,'f':1,'g':2, 'h':3}\n",
        "b={1:1,2:2,3:3,4:4,5:5}\n",
        "a1=list(a.items())\n",
        "b1=list(b.items())\n",
        "a1.extend(b1)\n",
        "c=dict(a1)\n",
        "print(\"Dictionary after merging :\",c)"
      ],
      "execution_count": 3,
      "outputs": [
        {
          "output_type": "stream",
          "text": [
            "Dictionary after merging : {'a': 1, 'b': 2, 'c': 3, 'd': 4, 'e': 5, 'f': 1, 'g': 2, 'h': 3, 1: 1, 2: 2, 3: 3, 4: 4, 5: 5}\n"
          ],
          "name": "stdout"
        }
      ]
    },
    {
      "cell_type": "markdown",
      "metadata": {
        "id": "n4-Mx3zwxVT-"
      },
      "source": [
        "**Write a Python program to insertion at the beginning in OrderedDict?**"
      ]
    },
    {
      "cell_type": "code",
      "metadata": {
        "colab": {
          "base_uri": "https://localhost:8080/"
        },
        "id": "kt55kzEazOCj",
        "outputId": "6bac24d0-019e-4722-d096-0f61f2ebfbaa"
      },
      "source": [
        "from collections import OrderedDict\n",
        "a1=OrderedDict()\n",
        "a1['c']=3\n",
        "a1['a']=1\n",
        "a1['b']=2\n",
        "a1['d']=4\n",
        "a1.move_to_end('d',last=False)\n",
        "print(a1)"
      ],
      "execution_count": 4,
      "outputs": [
        {
          "output_type": "stream",
          "text": [
            "OrderedDict([('d', 4), ('c', 3), ('a', 1), ('b', 2)])\n"
          ],
          "name": "stdout"
        }
      ]
    },
    {
      "cell_type": "markdown",
      "metadata": {
        "id": "5GEW91zL8u6g"
      },
      "source": [
        "**Write a Python program to check order of character in string using OrderedDict()?**"
      ]
    },
    {
      "cell_type": "code",
      "metadata": {
        "id": "So4xo13w8160",
        "colab": {
          "base_uri": "https://localhost:8080/"
        },
        "outputId": "d6182f76-a4f4-48db-9f3d-11de8cacb477"
      },
      "source": [
        "from collections import OrderedDict \n",
        "input = 'engineers rock'\n",
        "pattern = 'egr'\n",
        "# dict = OrderedDict.fromkeys(input)\n",
        "a=0\n",
        "k=0\n",
        "c=[]\n",
        "for i in input:\n",
        "  if i in pattern:\n",
        "    if i not in c :\n",
        "      c.append(i)\n",
        "      k=k+1\n",
        "    elif i in c :  \n",
        "      if c.index(i)+1 == len(c):\n",
        "        continue \n",
        "      else:\n",
        "        print(\"Not in order\")\n",
        "        break\n",
        "else:\n",
        "  print(\"In order\")\n",
        "\n",
        "## I don't know how to complete this problem using ordered dictionary :If you have solution please send me.\n"
      ],
      "execution_count": 5,
      "outputs": [
        {
          "output_type": "stream",
          "text": [
            "Not in order\n"
          ],
          "name": "stdout"
        }
      ]
    },
    {
      "cell_type": "markdown",
      "metadata": {
        "id": "QtpoLnGONDNX"
      },
      "source": [
        "**Write a Python program to sort Python Dictionaries by Key or Value?**"
      ]
    },
    {
      "cell_type": "code",
      "metadata": {
        "colab": {
          "base_uri": "https://localhost:8080/"
        },
        "id": "OIa5KnmMNEdR",
        "outputId": "6ca7523e-e195-4157-a018-189132cd4f7d"
      },
      "source": [
        "a={'a':1,'e':5,'f':1,'g':2, 'h':3,'b':2,'c':3,'d':4}\n",
        "b=list(a.keys())\n",
        "b.sort()\n",
        "c=dict()\n",
        "for i in b:\n",
        "  k=a[i]\n",
        "  c[i]=k\n",
        "print(\"Dictionary after sorting by key :\",c)"
      ],
      "execution_count": 6,
      "outputs": [
        {
          "output_type": "stream",
          "text": [
            "Dictionary after sorting by key : {'a': 1, 'b': 2, 'c': 3, 'd': 4, 'e': 5, 'f': 1, 'g': 2, 'h': 3}\n"
          ],
          "name": "stdout"
        }
      ]
    }
  ]
}