{
  "nbformat": 4,
  "nbformat_minor": 0,
  "metadata": {
    "colab": {
      "name": "Untitled7.ipynb",
      "provenance": [],
      "collapsed_sections": []
    },
    "kernelspec": {
      "name": "python3",
      "display_name": "Python 3"
    },
    "language_info": {
      "name": "python"
    }
  },
  "cells": [
    {
      "cell_type": "markdown",
      "metadata": {
        "id": "yE9pyDHuN3NA"
      },
      "source": [
        "**Write a Python Program to Find the Factorial of a Number?**"
      ]
    },
    {
      "cell_type": "code",
      "metadata": {
        "colab": {
          "base_uri": "https://localhost:8080/"
        },
        "id": "wRxHUjTVN6l7",
        "outputId": "f66e3155-1116-423d-90e9-8701406c06c2"
      },
      "source": [
        "a=int(input(\"Enter the number \"))\n",
        "b=1\n",
        "for i in range(1,a+1):\n",
        "  b=b*i\n",
        "print(\"The factorial of a given number is \",b)\n"
      ],
      "execution_count": 1,
      "outputs": [
        {
          "output_type": "stream",
          "text": [
            "Enter the number 5\n",
            "The factorial of a given number is  120\n"
          ],
          "name": "stdout"
        }
      ]
    },
    {
      "cell_type": "markdown",
      "metadata": {
        "id": "jH-QzyeQOrhB"
      },
      "source": [
        "**Write a Python Program to Display the multiplication Table?**"
      ]
    },
    {
      "cell_type": "code",
      "metadata": {
        "colab": {
          "base_uri": "https://localhost:8080/"
        },
        "id": "bhXhCLzjOtA_",
        "outputId": "b144f268-4d1d-4839-b382-c4ac038e58f5"
      },
      "source": [
        "a=int(input(\"Enter the value \"))\n",
        "for i in range(1,11):\n",
        "  print(a,\"*\",i,\"=\",a*i)\n"
      ],
      "execution_count": 2,
      "outputs": [
        {
          "output_type": "stream",
          "text": [
            "Enter the value 10\n",
            "10 * 1 = 10\n",
            "10 * 2 = 20\n",
            "10 * 3 = 30\n",
            "10 * 4 = 40\n",
            "10 * 5 = 50\n",
            "10 * 6 = 60\n",
            "10 * 7 = 70\n",
            "10 * 8 = 80\n",
            "10 * 9 = 90\n",
            "10 * 10 = 100\n"
          ],
          "name": "stdout"
        }
      ]
    },
    {
      "cell_type": "markdown",
      "metadata": {
        "id": "nF29wYtpQMtp"
      },
      "source": [
        "**Write a Python Program to Print the Fibonacci sequence?**"
      ]
    },
    {
      "cell_type": "code",
      "metadata": {
        "colab": {
          "base_uri": "https://localhost:8080/"
        },
        "id": "sutimfu2QCH2",
        "outputId": "37737680-57b1-4093-b913-e106e57c9597"
      },
      "source": [
        "a=int(input(\"Enter the number of terms you want \"))\n",
        "a1,a2=0,1\n",
        "if a<=0:\n",
        "  print(\"Please enter a positive number\")\n",
        "elif a==1:\n",
        "  print(\"The Fibonacci sequence up to %d is : \"%a,a1)\n",
        "else:\n",
        "  print(\"The Fibonacci sequence is \",end=\"\")\n",
        "  while a>0:\n",
        "    print(a1,end=\" \")\n",
        "    f=a1+a2\n",
        "    a1=a2\n",
        "    a2=f\n",
        "    a-=1\n",
        "\n",
        "    \n",
        "\n",
        "\n"
      ],
      "execution_count": 3,
      "outputs": [
        {
          "output_type": "stream",
          "text": [
            "Enter the number of terms you want 5\n",
            "The Fibonacci sequence is 0 1 1 2 3 "
          ],
          "name": "stdout"
        }
      ]
    },
    {
      "cell_type": "markdown",
      "metadata": {
        "id": "06p3YyaAbVCN"
      },
      "source": [
        "**Write a Python Program to Check Armstrong Number?**"
      ]
    },
    {
      "cell_type": "code",
      "metadata": {
        "colab": {
          "base_uri": "https://localhost:8080/"
        },
        "id": "1A-gm6ttbZun",
        "outputId": "4aeaa2cc-33b5-42af-fe9b-5df6a8a00334"
      },
      "source": [
        "a=int(input(\"Enter the number \"))\n",
        "s=a\n",
        "b=0;\n",
        "while a>0:\n",
        "  c=a%10\n",
        "  d=c**3\n",
        "  b=b+d\n",
        "  a=a//10\n",
        "if(s==b):\n",
        "  print(\"Armstrong Number \")\n",
        "else:\n",
        "  print(\"Not a Armstrong Number\")\n"
      ],
      "execution_count": 4,
      "outputs": [
        {
          "output_type": "stream",
          "text": [
            "Enter the number 407\n",
            "Armstrong Number \n"
          ],
          "name": "stdout"
        }
      ]
    },
    {
      "cell_type": "markdown",
      "metadata": {
        "id": "HS5LBiuddUrk"
      },
      "source": [
        "**Write a Python Program to Find Armstrong Number in an Interval?**"
      ]
    },
    {
      "cell_type": "code",
      "metadata": {
        "colab": {
          "base_uri": "https://localhost:8080/"
        },
        "id": "9XO9nHlPdW-O",
        "outputId": "c8c1ce86-3ede-4a7e-b4af-73cf59b644bf"
      },
      "source": [
        "a1=int(input(\"Enter the Interval starting number \"))\n",
        "b1=int(input(\"Enter the Interval Ending number \"))\n",
        "c1=[]\n",
        "for i in range(a1,b1+1):\n",
        "  s=i\n",
        "  b=0;\n",
        "  while i>0:\n",
        "    c=i%10\n",
        "    d=c**3\n",
        "    b=b+d\n",
        "    i=i//10\n",
        "  if(s==b):\n",
        "    c1.append(s)\n",
        "  b=0\n",
        "print(\"The Armstrong Numbers in interval %d, %d is: \"%(a1,b1),c1)"
      ],
      "execution_count": 5,
      "outputs": [
        {
          "output_type": "stream",
          "text": [
            "Enter the Interval starting number 100\n",
            "Enter the Interval Ending number 500\n",
            "The Armstrong Numbers in interval 100, 500 is:  [153, 370, 371, 407]\n"
          ],
          "name": "stdout"
        }
      ]
    },
    {
      "cell_type": "markdown",
      "metadata": {
        "id": "_EMlCnbCfpOj"
      },
      "source": [
        "**Write a Python Program to Find the Sum of Natural Numbers?**"
      ]
    },
    {
      "cell_type": "code",
      "metadata": {
        "colab": {
          "base_uri": "https://localhost:8080/"
        },
        "id": "Q8jSxcIvftDm",
        "outputId": "2acbba3b-b167-4449-b45c-f04e0915cae0"
      },
      "source": [
        "a=int(input(\"Enter a number \"))\n",
        "if(a<=0):\n",
        "  print(\"Enter positive number \")\n",
        "else:\n",
        "  b=0;\n",
        "  while(a>0):\n",
        "    b=b+a\n",
        "    a=a-1\n",
        "print(\"The sum of Natural Numbers is: \",b)    "
      ],
      "execution_count": 6,
      "outputs": [
        {
          "output_type": "stream",
          "text": [
            "Enter a number 10\n",
            "The sum of Natural Numbers is:  55\n"
          ],
          "name": "stdout"
        }
      ]
    }
  ]
}