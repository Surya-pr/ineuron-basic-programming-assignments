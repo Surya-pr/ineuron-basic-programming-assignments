{
  "nbformat": 4,
  "nbformat_minor": 0,
  "metadata": {
    "colab": {
      "name": "basic programming assignment 11.ipynb",
      "provenance": []
    },
    "kernelspec": {
      "name": "python3",
      "display_name": "Python 3"
    },
    "language_info": {
      "name": "python"
    }
  },
  "cells": [
    {
      "cell_type": "markdown",
      "metadata": {
        "id": "A1uvLqnIxJoG"
      },
      "source": [
        "**Write a Python program to find words which are greater than given length k?**"
      ]
    },
    {
      "cell_type": "code",
      "metadata": {
        "colab": {
          "base_uri": "https://localhost:8080/"
        },
        "id": "EPz0fiR6xLBZ",
        "outputId": "892862c9-9710-4fa3-d16c-4a2823a176c3"
      },
      "source": [
        "a=int(input(\"Enter the length value \"))\n",
        "b=[\"surya\",\"prakash\",\"reddy\",\"regression\",\"calssification\",\"clusterring\",\"machine_learning\",\"deep_learning\"]\n",
        "print(\"Words which are greater than given length k are: \",end=\"\")\n",
        "for i in b:\n",
        "  if(len(i)>a):\n",
        "    print(i,end=\" \")"
      ],
      "execution_count": 1,
      "outputs": [
        {
          "output_type": "stream",
          "text": [
            "Enter the length value 5\n",
            "Words which are greater than given length k are: prakash regression calssification clusterring machine_learning deep_learning "
          ],
          "name": "stdout"
        }
      ]
    },
    {
      "cell_type": "markdown",
      "metadata": {
        "id": "lctXUd7_0FPm"
      },
      "source": [
        "**Write a Python program for removing i-th character from a string?**"
      ]
    },
    {
      "cell_type": "code",
      "metadata": {
        "colab": {
          "base_uri": "https://localhost:8080/"
        },
        "id": "5ETazSRF0Jpz",
        "outputId": "6d8a086e-6734-4aaf-fb9a-b70641678c94"
      },
      "source": [
        "a=int(input(\"Enter the input value \"))\n",
        "b=\"surya_prakash_reddy\"\n",
        "a1=list(b)\n",
        "a1.remove(a1[a-1])\n",
        "a2=\"\"\n",
        "for i in a1:\n",
        "  a2=a2+i\n",
        "print(\"String after removing %d-th character is: \"%a,a2)\n"
      ],
      "execution_count": 2,
      "outputs": [
        {
          "output_type": "stream",
          "text": [
            "Enter the input value 3\n",
            "String after removing 3-th character is:  suya_prakash_reddy\n"
          ],
          "name": "stdout"
        }
      ]
    },
    {
      "cell_type": "markdown",
      "metadata": {
        "id": "OCdCPSO72eBw"
      },
      "source": [
        "**Write a Python program to split and join a string?**"
      ]
    },
    {
      "cell_type": "code",
      "metadata": {
        "colab": {
          "base_uri": "https://localhost:8080/"
        },
        "id": "UWB55m4y2qXw",
        "outputId": "48a02e59-b9a0-4882-f622-b3e8bd495773"
      },
      "source": [
        "a=input(\"Enter the input string \")\n",
        "b=a.split()\n",
        "a1=\"\"\n",
        "for i in b:\n",
        "  a1=a1+i\n",
        "print(a1)    \n"
      ],
      "execution_count": 3,
      "outputs": [
        {
          "output_type": "stream",
          "text": [
            "Enter the input string surya_prakash_reddy\n",
            "surya_prakash_reddy\n"
          ],
          "name": "stdout"
        }
      ]
    },
    {
      "cell_type": "markdown",
      "metadata": {
        "id": "hz9IF4O_4fbW"
      },
      "source": [
        "**Write a Python to check if a given string is binary string or not?**"
      ]
    },
    {
      "cell_type": "code",
      "metadata": {
        "colab": {
          "base_uri": "https://localhost:8080/"
        },
        "id": "s1SZbreqY7wW",
        "outputId": "5d8e44c5-abf6-4143-efa7-373f3da70f6f"
      },
      "source": [
        "a=input(\"Enter the input string \")\n",
        "for i in a:\n",
        "  if i != '0' and i!= '1':\n",
        "    print(\"Not a binary string \")\n",
        "    break\n",
        "else:\n",
        "  print(\"Binary string \")"
      ],
      "execution_count": 5,
      "outputs": [
        {
          "output_type": "stream",
          "text": [
            "Enter the input string 010101\n",
            "Binary string \n"
          ],
          "name": "stdout"
        }
      ]
    },
    {
      "cell_type": "markdown",
      "metadata": {
        "id": "oK2-qJfCcUVR"
      },
      "source": [
        "**Write a Python program to find uncommon words from two Strings?**"
      ]
    },
    {
      "cell_type": "code",
      "metadata": {
        "id": "d8K03NxOcXaZ",
        "colab": {
          "base_uri": "https://localhost:8080/"
        },
        "outputId": "bfb7fd43-9c16-45b9-a12c-a4df876e421e"
      },
      "source": [
        "a=\"sets lists tuples dictionaries string int machine_learning deep_learning\"\n",
        "b=\"sets lists tuples dictionaries string int regression classification\"\n",
        "a1=a.split()\n",
        "b1=b.split()\n",
        "a2=set(a1)\n",
        "b2=set(b1)\n",
        "c=a2.symmetric_difference(b2)\n",
        "print(\"Uncommon words from two Strings are: \",c)"
      ],
      "execution_count": 6,
      "outputs": [
        {
          "output_type": "stream",
          "text": [
            "Uncommon words from two Strings are:  {'machine_learning', 'deep_learning', 'classification', 'regression'}\n"
          ],
          "name": "stdout"
        }
      ]
    },
    {
      "cell_type": "markdown",
      "metadata": {
        "id": "wG7DpndlXcMU"
      },
      "source": [
        "**Write a Python to find all duplicate characters in string?**"
      ]
    },
    {
      "cell_type": "code",
      "metadata": {
        "colab": {
          "base_uri": "https://localhost:8080/"
        },
        "id": "AbDxPDBlXiPj",
        "outputId": "94208e62-2647-4ab7-80d5-80b1105521aa"
      },
      "source": [
        "a=\"surya_prakash_reddy\"\n",
        "b=set(a)\n",
        "c=list(b)\n",
        "d=[]\n",
        "for i in c:\n",
        "  a1=a.count(i)\n",
        "  if a1>1:\n",
        "    d.append(i)\n",
        "print(\"Duplicate characters in string are: \",d)"
      ],
      "execution_count": 7,
      "outputs": [
        {
          "output_type": "stream",
          "text": [
            "Duplicate characters in string are:  ['y', 'r', 'a', '_', 's', 'd']\n"
          ],
          "name": "stdout"
        }
      ]
    },
    {
      "cell_type": "markdown",
      "metadata": {
        "id": "QIT5RHxRZqu6"
      },
      "source": [
        "**Write a Python Program to check if a string contains any special character?**"
      ]
    },
    {
      "cell_type": "code",
      "metadata": {
        "colab": {
          "base_uri": "https://localhost:8080/",
          "height": 52
        },
        "id": "i-Od5jXXdVSv",
        "outputId": "a5b07e13-3140-43ac-8e94-10423bbf4e58"
      },
      "source": [
        "a=\"sets liststuples@dictionariesstringintmachinelearningdeep_learning\"\n",
        "import string\n",
        "b = string.ascii_letters + string.digits + \" \"\n",
        "c=[]\n",
        "for i in a:\n",
        "  if i not in b:\n",
        "    c.append(i)\n",
        "d=len(c)\n",
        "if d==0:\n",
        "  print(\"No special characters in string\")\n",
        "else:\n",
        "  print(\"String contains special characters \")\n",
        "\n",
        "'''\n",
        " a=\"sets liststuples@dictionariesstringintmachinelearningdeep_learning\"\n",
        "for c in a:\n",
        "   if not c.isalnum() and not c.isspace():\n",
        "     print(c)\n",
        " '''     "
      ],
      "execution_count": 8,
      "outputs": [
        {
          "output_type": "stream",
          "text": [
            "String contains special characters \n"
          ],
          "name": "stdout"
        },
        {
          "output_type": "execute_result",
          "data": {
            "application/vnd.google.colaboratory.intrinsic+json": {
              "type": "string"
            },
            "text/plain": [
              "'\\n a=\"sets liststuples@dictionariesstringintmachinelearningdeep_learning\"\\nfor c in a:\\n   if not c.isalnum() and not c.isspace():\\n     print(c)\\n '"
            ]
          },
          "metadata": {
            "tags": []
          },
          "execution_count": 8
        }
      ]
    }
  ]
}