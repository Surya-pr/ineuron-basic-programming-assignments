{
  "nbformat": 4,
  "nbformat_minor": 0,
  "metadata": {
    "colab": {
      "name": "Untitled7.ipynb",
      "provenance": [],
      "collapsed_sections": []
    },
    "kernelspec": {
      "name": "python3",
      "display_name": "Python 3"
    },
    "language_info": {
      "name": "python"
    }
  },
  "cells": [
    {
      "cell_type": "markdown",
      "metadata": {
        "id": "YeRo_eQPigQM"
      },
      "source": [
        "**Write a Python program to convert kilometers to miles?**"
      ]
    },
    {
      "cell_type": "code",
      "metadata": {
        "colab": {
          "base_uri": "https://localhost:8080/"
        },
        "id": "oJKpLK5sikn3",
        "outputId": "a1d17ecb-87f2-4f4a-f7b7-96897b1449c2"
      },
      "source": [
        "a=int(input(\"Enter the Kilometers you travelled \"))\n",
        "b=a/1.60934\n",
        "print(\"Value in miles: {:.2f}\".format(b))"
      ],
      "execution_count": 1,
      "outputs": [
        {
          "output_type": "stream",
          "text": [
            "Enter the Kilometers you travelled 100\n",
            "Value in miles: 62.14\n"
          ],
          "name": "stdout"
        }
      ]
    },
    {
      "cell_type": "markdown",
      "metadata": {
        "id": "VoGGlyX3kj76"
      },
      "source": [
        "**Write a Python program to convert Celsius to Fahrenheit?**"
      ]
    },
    {
      "cell_type": "code",
      "metadata": {
        "colab": {
          "base_uri": "https://localhost:8080/"
        },
        "id": "TRTASoaVkvgg",
        "outputId": "f1376ca7-ad81-4876-ed59-fdc798804e3b"
      },
      "source": [
        "celsius_value = float(input(\"Enter celsius value \"))\n",
        "# fahrenheit = (celsius * 1.8) + 32  # conversion formula\n",
        "fahrenheit_value=((celsius_value)* 1.8)+32\n",
        "print(\"Value in Fahrenheit: \",fahrenheit_value)"
      ],
      "execution_count": 2,
      "outputs": [
        {
          "output_type": "stream",
          "text": [
            "Enter celsius value 39.8\n",
            "Value in Fahrenheit:  103.64\n"
          ],
          "name": "stdout"
        }
      ]
    },
    {
      "cell_type": "markdown",
      "metadata": {
        "id": "nOTh-yj8maPl"
      },
      "source": [
        "**Write a Python program to display calendar?**"
      ]
    },
    {
      "cell_type": "code",
      "metadata": {
        "colab": {
          "base_uri": "https://localhost:8080/"
        },
        "id": "hSVWXrwJmbnm",
        "outputId": "3cfb877b-2c28-4add-a92a-70cabd50c5c0"
      },
      "source": [
        "import calendar\n",
        "year=int(input(\"Enter the year \"))\n",
        "print(calendar.calendar(year))"
      ],
      "execution_count": 3,
      "outputs": [
        {
          "output_type": "stream",
          "text": [
            "Enter the year 2021\n",
            "                                  2021\n",
            "\n",
            "      January                   February                   March\n",
            "Mo Tu We Th Fr Sa Su      Mo Tu We Th Fr Sa Su      Mo Tu We Th Fr Sa Su\n",
            "             1  2  3       1  2  3  4  5  6  7       1  2  3  4  5  6  7\n",
            " 4  5  6  7  8  9 10       8  9 10 11 12 13 14       8  9 10 11 12 13 14\n",
            "11 12 13 14 15 16 17      15 16 17 18 19 20 21      15 16 17 18 19 20 21\n",
            "18 19 20 21 22 23 24      22 23 24 25 26 27 28      22 23 24 25 26 27 28\n",
            "25 26 27 28 29 30 31                                29 30 31\n",
            "\n",
            "       April                      May                       June\n",
            "Mo Tu We Th Fr Sa Su      Mo Tu We Th Fr Sa Su      Mo Tu We Th Fr Sa Su\n",
            "          1  2  3  4                      1  2          1  2  3  4  5  6\n",
            " 5  6  7  8  9 10 11       3  4  5  6  7  8  9       7  8  9 10 11 12 13\n",
            "12 13 14 15 16 17 18      10 11 12 13 14 15 16      14 15 16 17 18 19 20\n",
            "19 20 21 22 23 24 25      17 18 19 20 21 22 23      21 22 23 24 25 26 27\n",
            "26 27 28 29 30            24 25 26 27 28 29 30      28 29 30\n",
            "                          31\n",
            "\n",
            "        July                     August                  September\n",
            "Mo Tu We Th Fr Sa Su      Mo Tu We Th Fr Sa Su      Mo Tu We Th Fr Sa Su\n",
            "          1  2  3  4                         1             1  2  3  4  5\n",
            " 5  6  7  8  9 10 11       2  3  4  5  6  7  8       6  7  8  9 10 11 12\n",
            "12 13 14 15 16 17 18       9 10 11 12 13 14 15      13 14 15 16 17 18 19\n",
            "19 20 21 22 23 24 25      16 17 18 19 20 21 22      20 21 22 23 24 25 26\n",
            "26 27 28 29 30 31         23 24 25 26 27 28 29      27 28 29 30\n",
            "                          30 31\n",
            "\n",
            "      October                   November                  December\n",
            "Mo Tu We Th Fr Sa Su      Mo Tu We Th Fr Sa Su      Mo Tu We Th Fr Sa Su\n",
            "             1  2  3       1  2  3  4  5  6  7             1  2  3  4  5\n",
            " 4  5  6  7  8  9 10       8  9 10 11 12 13 14       6  7  8  9 10 11 12\n",
            "11 12 13 14 15 16 17      15 16 17 18 19 20 21      13 14 15 16 17 18 19\n",
            "18 19 20 21 22 23 24      22 23 24 25 26 27 28      20 21 22 23 24 25 26\n",
            "25 26 27 28 29 30 31      29 30                     27 28 29 30 31\n",
            "\n"
          ],
          "name": "stdout"
        }
      ]
    },
    {
      "cell_type": "markdown",
      "metadata": {
        "id": "HRcz60Ujnn4P"
      },
      "source": [
        "**Write a Python program to solve quadratic equation?**"
      ]
    },
    {
      "cell_type": "code",
      "metadata": {
        "colab": {
          "base_uri": "https://localhost:8080/"
        },
        "id": "xCaeOg1nnpiv",
        "outputId": "cf6e67a9-535a-4c1a-cd6c-99487548cca0"
      },
      "source": [
        "import cmath\n",
        "\n",
        "a =float(input(\"Enter the coefficient of x**2: \"))\n",
        "b =float(input(\"Enter the coefficient of x: \"))\n",
        "c =float(input(\"Enter the constant value: \"))\n",
        "d = (b**2) - (4*a*c) # finding the discriminant  value\n",
        "\n",
        "first_root  = (-b-cmath.sqrt(d))/(2*a)\n",
        "second_root = (-b+cmath.sqrt(d))/(2*a)\n",
        "\n",
        "print('The roots of the quadratic equataion  are {0} and {1}'.format(first_root,second_root))"
      ],
      "execution_count": 4,
      "outputs": [
        {
          "output_type": "stream",
          "text": [
            "Enter the coefficient of x**2: 2\n",
            "Enter the coefficient of x: 4\n",
            "Enter the constant value: 6\n",
            "The roots of the quadratic equataion  are (-1-1.4142135623730951j) and (-1+1.4142135623730951j)\n"
          ],
          "name": "stdout"
        }
      ]
    },
    {
      "cell_type": "markdown",
      "metadata": {
        "id": "G9G401k2o0bO"
      },
      "source": [
        "**Write a Python program to swap two variables without temp variable?**"
      ]
    },
    {
      "cell_type": "code",
      "metadata": {
        "colab": {
          "base_uri": "https://localhost:8080/"
        },
        "id": "uWA8kjfnpIx2",
        "outputId": "89ca4f02-7795-4fca-9340-e6ee8fe6896c"
      },
      "source": [
        "# swaping two integer variables:\n",
        "\n",
        "x=int(input(\"Enter the first variable \"))\n",
        "y=int(input(\"Enter the second variable \"))\n",
        "x = x * y\n",
        "y = x / y\n",
        "x = x / y\n",
        "print(\"After swaping the value of first variable is \",int(x))\n",
        "print(\"After swaping the value of second variable is \",int(y))"
      ],
      "execution_count": 5,
      "outputs": [
        {
          "output_type": "stream",
          "text": [
            "Enter the first variable 10\n",
            "Enter the second variable 20\n",
            "After swaping the value of first variable is  20\n",
            "After swaping the value of second variable is  10\n"
          ],
          "name": "stdout"
        }
      ]
    }
  ]
}