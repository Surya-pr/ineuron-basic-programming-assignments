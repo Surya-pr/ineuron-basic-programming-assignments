{
  "nbformat": 4,
  "nbformat_minor": 0,
  "metadata": {
    "colab": {
      "name": "Untitled9.ipynb",
      "provenance": []
    },
    "kernelspec": {
      "name": "python3",
      "display_name": "Python 3"
    },
    "language_info": {
      "name": "python"
    }
  },
  "cells": [
    {
      "cell_type": "markdown",
      "metadata": {
        "id": "w5BxjP9yIcyE"
      },
      "source": [
        "**Write a Python Program to Add Two Matrices?**"
      ]
    },
    {
      "cell_type": "code",
      "metadata": {
        "colab": {
          "base_uri": "https://localhost:8080/"
        },
        "id": "RQNu6gwEIeyI",
        "outputId": "28ea9f45-f9ef-49cf-b190-5ade69ccc8d6"
      },
      "source": [
        "a=int(input(\"Enter the number of rows \"))\n",
        "b=int(input(\"Enter the number of columns \"))\n",
        "c=[]\n",
        "d=[]\n",
        "for i in range(a):\n",
        "  for j in range(b):\n",
        "    k=int(input(\"Enter the matrices values \"))\n",
        "    c.append(k)\n",
        "  d.append(c)\n",
        "  c=[]\n",
        "print(\"First matrices \",d)\n",
        "c1=[]\n",
        "d1=[] \n",
        "for i in range(a):\n",
        "  for j in range(b):\n",
        "    k=int(input(\"Enter the matrices values \"))\n",
        "    c1.append(k)\n",
        "  d1.append(c1)\n",
        "  c1=[]\n",
        "print(\"Second matrices \",d1)\n",
        "c2=[]\n",
        "d2=[] \n",
        "for i in range(a):\n",
        "  for j in range(b):\n",
        "    k=d[i][j]+d1[i][j]\n",
        "    c2.append(k)\n",
        "  d2.append(c2)\n",
        "  c2=[]\n",
        "print(\"Addition matrices \",d2)\n",
        "\n"
      ],
      "execution_count": 1,
      "outputs": [
        {
          "output_type": "stream",
          "text": [
            "Enter the number of rows 2\n",
            "Enter the number of columns 2\n",
            "Enter the matrices values 1\n",
            "Enter the matrices values 2\n",
            "Enter the matrices values 3\n",
            "Enter the matrices values 4\n",
            "First matrices  [[1, 2], [3, 4]]\n",
            "Enter the matrices values 1\n",
            "Enter the matrices values 2\n",
            "Enter the matrices values 3\n",
            "Enter the matrices values 4\n",
            "Second matrices  [[1, 2], [3, 4]]\n",
            "Addition matrices  [[2, 4], [6, 8]]\n"
          ],
          "name": "stdout"
        }
      ]
    },
    {
      "cell_type": "markdown",
      "metadata": {
        "id": "s6zqzdX5NdN7"
      },
      "source": [
        "**Write a Python Program to Multiply Two Matrices?**"
      ]
    },
    {
      "cell_type": "code",
      "metadata": {
        "colab": {
          "base_uri": "https://localhost:8080/"
        },
        "id": "3ADpGbw4NlDJ",
        "outputId": "cbe14d67-6fa8-4a08-96fd-e48e67962844"
      },
      "source": [
        "a=int(input(\"Enter the number of rows \"))\n",
        "b=int(input(\"Enter the number of columns \"))\n",
        "c=[]\n",
        "d=[]\n",
        "for i in range(a):\n",
        "  for j in range(b):\n",
        "    k=int(input(\"Enter the matrices values \"))\n",
        "    c.append(k)\n",
        "  d.append(c)\n",
        "  c=[]\n",
        "print(\"First matrices \",d)\n",
        "c1=[]\n",
        "d1=[] \n",
        "for i in range(a):\n",
        "  for j in range(b):\n",
        "    k=int(input(\"Enter the matrices values \"))\n",
        "    c1.append(k)\n",
        "  d1.append(c1)\n",
        "  c1=[]\n",
        "print(\"Second matrices \",d1)\n",
        "c2=[]\n",
        "d2=[]\n",
        "k=0 \n",
        "l=0\n",
        "for i in range(a):\n",
        "  for j in range(b):\n",
        "    for k in range(b):\n",
        "      k=d[i][k]*d1[k][j]\n",
        "      l=l+k\n",
        "    c2.append(l)\n",
        "    k=0\n",
        "    l=0\n",
        "  d2.append(c2)\n",
        "  c2=[]\n",
        "print(\"Multiplication matrices \",d2)\n"
      ],
      "execution_count": 2,
      "outputs": [
        {
          "output_type": "stream",
          "text": [
            "Enter the number of rows 2\n",
            "Enter the number of columns 2\n",
            "Enter the matrices values 1\n",
            "Enter the matrices values 2\n",
            "Enter the matrices values 3\n",
            "Enter the matrices values 4\n",
            "First matrices  [[1, 2], [3, 4]]\n",
            "Enter the matrices values 1\n",
            "Enter the matrices values 2\n",
            "Enter the matrices values 3\n",
            "Enter the matrices values 4\n",
            "Second matrices  [[1, 2], [3, 4]]\n",
            "Multiplication matrices  [[7, 10], [15, 22]]\n"
          ],
          "name": "stdout"
        }
      ]
    },
    {
      "cell_type": "markdown",
      "metadata": {
        "id": "WdDgMkOvaNis"
      },
      "source": [
        "**Write a Python Program to Transpose a Matrix?**"
      ]
    },
    {
      "cell_type": "code",
      "metadata": {
        "colab": {
          "base_uri": "https://localhost:8080/"
        },
        "id": "yTwb6K9-aPJN",
        "outputId": "bcdbb46f-3f04-486f-b5b5-e7d1ca7666b7"
      },
      "source": [
        "a=int(input(\"Enter the number of rows \"))\n",
        "b=int(input(\"Enter the number of columns \"))\n",
        "c=[]\n",
        "d=[]\n",
        "for i in range(a):\n",
        "  for j in range(b):\n",
        "    k=int(input(\"Enter the matrices values \"))\n",
        "    c.append(k)\n",
        "  d.append(c)\n",
        "  c=[]\n",
        "print(\"First matrices \",d)\n",
        "c3=[]\n",
        "d3=[] \n",
        "for i in range(a):\n",
        "  for j in range(b):\n",
        "    c3.append(d[j][i])\n",
        "  d3.append(c3)\n",
        "  c3=[]\n",
        "print(\"Transpose matrix is:\",d3)"
      ],
      "execution_count": 3,
      "outputs": [
        {
          "output_type": "stream",
          "text": [
            "Enter the number of rows 2\n",
            "Enter the number of columns 2\n",
            "Enter the matrices values 1\n",
            "Enter the matrices values 2\n",
            "Enter the matrices values 3\n",
            "Enter the matrices values 4\n",
            "First matrices  [[1, 2], [3, 4]]\n",
            "Transpose matrix is: [[1, 3], [2, 4]]\n"
          ],
          "name": "stdout"
        }
      ]
    },
    {
      "cell_type": "markdown",
      "metadata": {
        "id": "5H5rUAU5b2uB"
      },
      "source": [
        "**Write a Python Program to Sort Words in Alphabetic Order?**"
      ]
    },
    {
      "cell_type": "code",
      "metadata": {
        "colab": {
          "base_uri": "https://localhost:8080/"
        },
        "id": "YCGnVO3Sb6BA",
        "outputId": "59c85c75-06aa-454e-b7ed-b966c10de259"
      },
      "source": [
        "a=[\"surya\",\"prakash\",\"reddy\",\"apple\",\"banana\",\"aeroplane\"]\n",
        "a.sort()\n",
        "a"
      ],
      "execution_count": 4,
      "outputs": [
        {
          "output_type": "execute_result",
          "data": {
            "text/plain": [
              "['aeroplane', 'apple', 'banana', 'prakash', 'reddy', 'surya']"
            ]
          },
          "metadata": {
            "tags": []
          },
          "execution_count": 4
        }
      ]
    },
    {
      "cell_type": "markdown",
      "metadata": {
        "id": "mLtgBm-Zccna"
      },
      "source": [
        "**Write a Python Program to Remove Punctuation From a String?**"
      ]
    },
    {
      "cell_type": "code",
      "metadata": {
        "colab": {
          "base_uri": "https://localhost:8080/"
        },
        "id": "uCy_QVGSceLg",
        "outputId": "d1b2af45-df7b-4692-8746-21ded6ecc0dd"
      },
      "source": [
        "a='!,@,#,$,%,^,&,*,(,),_,+,-,[,],{,},\\,|,;,:,\",`,~,/,?,.'\n",
        "b=\"@hello #surya*pra(kash`\"\n",
        "c=\" \"\n",
        "for i in b:\n",
        "  if i not in a:\n",
        "   c=c+i\n",
        "print(c)\n",
        "   "
      ],
      "execution_count": 5,
      "outputs": [
        {
          "output_type": "stream",
          "text": [
            " hello suryaprakash\n"
          ],
          "name": "stdout"
        }
      ]
    }
  ]
}