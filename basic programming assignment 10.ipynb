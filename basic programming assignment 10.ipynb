{
  "nbformat": 4,
  "nbformat_minor": 0,
  "metadata": {
    "colab": {
      "name": "Untitled9.ipynb",
      "provenance": []
    },
    "kernelspec": {
      "name": "python3",
      "display_name": "Python 3"
    },
    "language_info": {
      "name": "python"
    }
  },
  "cells": [
    {
      "cell_type": "markdown",
      "metadata": {
        "id": "QOMjwqf8SW_U"
      },
      "source": [
        "**Write a Python program to find sum of elements in list?**"
      ]
    },
    {
      "cell_type": "code",
      "metadata": {
        "colab": {
          "base_uri": "https://localhost:8080/"
        },
        "id": "yboZPmT1Sc7m",
        "outputId": "877730e5-af1d-4c49-8019-93b0eee6c900"
      },
      "source": [
        "a=[1,2,3,4,5,6,7,8,9]\n",
        "b=0\n",
        "for i in a:\n",
        "  b=b+i\n",
        "print(\"The sum of elements in list is: \",b)"
      ],
      "execution_count": 14,
      "outputs": [
        {
          "output_type": "execute_result",
          "data": {
            "text/plain": [
              "45"
            ]
          },
          "metadata": {
            "tags": []
          },
          "execution_count": 14
        }
      ]
    },
    {
      "cell_type": "markdown",
      "metadata": {
        "id": "rljn6wikTqOx"
      },
      "source": [
        "**Write a Python program to Multiply all numbers in the list?**"
      ]
    },
    {
      "cell_type": "code",
      "metadata": {
        "colab": {
          "base_uri": "https://localhost:8080/"
        },
        "id": "YQorazEbT9rt",
        "outputId": "2d50cb72-40c8-4abd-8fb4-e624adcccc01"
      },
      "source": [
        "a=[1,2,3,4,5,6,7,8,9]\n",
        "b=1\n",
        "for i in a:\n",
        "  b=b*i\n",
        "print(\"The multiplication of elements in list is: \",b)"
      ],
      "execution_count": 15,
      "outputs": [
        {
          "output_type": "stream",
          "text": [
            "The multiplication of elements in list is:  362880\n"
          ],
          "name": "stdout"
        }
      ]
    },
    {
      "cell_type": "markdown",
      "metadata": {
        "id": "cZb-HEmBUStZ"
      },
      "source": [
        "**Write a Python program to find smallest number in a list?**"
      ]
    },
    {
      "cell_type": "code",
      "metadata": {
        "colab": {
          "base_uri": "https://localhost:8080/"
        },
        "id": "ThqGjMk3UWyt",
        "outputId": "e636bce1-0aab-475d-f584-0b105f818520"
      },
      "source": [
        "a=[11,43,13,62,79,6,24,11]\n",
        "a.sort()\n",
        "print(\"Smallest number in a list is :\",a[0])"
      ],
      "execution_count": 6,
      "outputs": [
        {
          "output_type": "stream",
          "text": [
            "Smallest number in a list  6\n"
          ],
          "name": "stdout"
        }
      ]
    },
    {
      "cell_type": "markdown",
      "metadata": {
        "id": "Hx9kYA4vV5wj"
      },
      "source": [
        "**Write a Python program to find largest number in a list?**"
      ]
    },
    {
      "cell_type": "code",
      "metadata": {
        "colab": {
          "base_uri": "https://localhost:8080/"
        },
        "id": "QN78fD_4V8EW",
        "outputId": "be99e918-d8fb-4c21-ab5f-1ee82b40a326"
      },
      "source": [
        "a=[11,43,13,62,79,6,24,11]\n",
        "a.sort(reverse=True)\n",
        "print(\"Largest number in a list is : \",a[0])"
      ],
      "execution_count": 8,
      "outputs": [
        {
          "output_type": "stream",
          "text": [
            "Largest number in a list is :  79\n"
          ],
          "name": "stdout"
        }
      ]
    },
    {
      "cell_type": "markdown",
      "metadata": {
        "id": "ppvtMWLaWRVR"
      },
      "source": [
        "**Write a Python program to find second largest number in a list?**"
      ]
    },
    {
      "cell_type": "code",
      "metadata": {
        "colab": {
          "base_uri": "https://localhost:8080/"
        },
        "id": "M-TUL8yIWWIZ",
        "outputId": "7c3f8abd-2f13-424b-fdb9-8e9e24775f82"
      },
      "source": [
        "a=[11,43,13,62,79,6,24,11]\n",
        "a.sort(reverse=True)\n",
        "print(\"Second largest number in a list is :\",a[1])"
      ],
      "execution_count": 9,
      "outputs": [
        {
          "output_type": "stream",
          "text": [
            "Second largest number in a list is : 62\n"
          ],
          "name": "stdout"
        }
      ]
    },
    {
      "cell_type": "markdown",
      "metadata": {
        "id": "_Wa5Z0smWblD"
      },
      "source": [
        "**Write a Python program to find N largest elements from a list?**"
      ]
    },
    {
      "cell_type": "code",
      "metadata": {
        "colab": {
          "base_uri": "https://localhost:8080/"
        },
        "id": "fOrDDtNAWfRg",
        "outputId": "a31cfa5e-1777-49fa-d1e7-af4e453ca0db"
      },
      "source": [
        "b=int(input(\"Enter input value \"))\n",
        "a=[11,43,13,62,79,6,24,11]\n",
        "a.sort(reverse=True)\n",
        "print(\"%d largest element from a list is :\"%b,a[b-1])"
      ],
      "execution_count": 11,
      "outputs": [
        {
          "output_type": "stream",
          "text": [
            "Enter input value 2\n",
            "2 largest elements from a list is : 62\n"
          ],
          "name": "stdout"
        }
      ]
    },
    {
      "cell_type": "markdown",
      "metadata": {
        "id": "LajcFrwYWyxl"
      },
      "source": [
        "**Write a Python program to print even numbers in a list?**"
      ]
    },
    {
      "cell_type": "code",
      "metadata": {
        "colab": {
          "base_uri": "https://localhost:8080/"
        },
        "id": "qqm-IEzEW3Bq",
        "outputId": "9a463441-8bb4-4cd6-8b6f-daf26a53fab7"
      },
      "source": [
        "a=[11,43,13,62,79,6,24,11]\n",
        "print(\"Even numbers of list are: \",end=\" \")\n",
        "for i in a:\n",
        "  if i%2==0:\n",
        "    print(i,end=\" \")"
      ],
      "execution_count": 12,
      "outputs": [
        {
          "output_type": "stream",
          "text": [
            "Even numbers of list are:  62 6 24 "
          ],
          "name": "stdout"
        }
      ]
    },
    {
      "cell_type": "markdown",
      "metadata": {
        "id": "g34ThBUrXCBz"
      },
      "source": [
        "**Write a Python program to print odd numbers in a List?**"
      ]
    },
    {
      "cell_type": "code",
      "metadata": {
        "colab": {
          "base_uri": "https://localhost:8080/"
        },
        "id": "2h6xWAAGXFpW",
        "outputId": "a72935aa-808d-40ea-d5dd-a01b69460649"
      },
      "source": [
        "a=[11,43,13,62,79,6,24,11]\n",
        "print(\"Odd numbers of list are: \",end=\" \")\n",
        "for i in a:\n",
        "  if i%2 != 0:\n",
        "    print(i,end=\" \")"
      ],
      "execution_count": 13,
      "outputs": [
        {
          "output_type": "stream",
          "text": [
            "Odd numbers of list are:  11 43 13 79 11 "
          ],
          "name": "stdout"
        }
      ]
    },
    {
      "cell_type": "markdown",
      "metadata": {
        "id": "pu5g6RuFXS75"
      },
      "source": [
        "**Write a Python program to Remove empty List from List?**"
      ]
    },
    {
      "cell_type": "code",
      "metadata": {
        "colab": {
          "base_uri": "https://localhost:8080/"
        },
        "id": "creYmBolXYy3",
        "outputId": "040d8521-6eb5-42fa-d891-a1f4292d6a31"
      },
      "source": [
        "a=[[1,2,3],[11,22,33],[]]\n",
        "for i in range(len(a)):\n",
        "  if(len(a[i])==0):\n",
        "    del a[i]\n",
        "print(a)"
      ],
      "execution_count": 32,
      "outputs": [
        {
          "output_type": "execute_result",
          "data": {
            "text/plain": [
              "[[1, 2, 3], [11, 22, 33]]"
            ]
          },
          "metadata": {
            "tags": []
          },
          "execution_count": 32
        }
      ]
    },
    {
      "cell_type": "markdown",
      "metadata": {
        "id": "08bk2Esvrn8L"
      },
      "source": [
        "**Write a Python program to Cloning or Copying a list?**"
      ]
    },
    {
      "cell_type": "code",
      "metadata": {
        "colab": {
          "base_uri": "https://localhost:8080/"
        },
        "id": "uresLH5mrs5u",
        "outputId": "9c3cea05-0041-4f67-96aa-d8dc5d6fd8fe"
      },
      "source": [
        "a=[11,43,13,62,79,6,24,11]\n",
        "b=[]\n",
        "b.extend(a)\n",
        "print(b)"
      ],
      "execution_count": 35,
      "outputs": [
        {
          "output_type": "stream",
          "text": [
            "[11, 43, 13, 62, 79, 6, 24, 11]\n"
          ],
          "name": "stdout"
        }
      ]
    },
    {
      "cell_type": "markdown",
      "metadata": {
        "id": "aC16d4oosfwl"
      },
      "source": [
        "**Write a Python program to Count occurrences of an element in a list?**"
      ]
    },
    {
      "cell_type": "code",
      "metadata": {
        "colab": {
          "base_uri": "https://localhost:8080/"
        },
        "id": "MOb-oFJysjPD",
        "outputId": "3e426038-eaef-46cb-b9a0-308464fb8b34"
      },
      "source": [
        "a=[11,43,43,6,24,43,11,6,43,13,62,79,6,24,11]\n",
        "b=set(a)\n",
        "c=[]\n",
        "a1=list(b)\n",
        "for i in a1:\n",
        "  b2=a.count(i)\n",
        "  b1=(i,b2)\n",
        "  c.append(b1)\n",
        "print(\"Occurrences of an element in a list are \",c)"
      ],
      "execution_count": 4,
      "outputs": [
        {
          "output_type": "stream",
          "text": [
            "Occurrences of an element in a list are  [(6, 3), (43, 4), (11, 3), (13, 1), (79, 1), (24, 2), (62, 1)]\n"
          ],
          "name": "stdout"
        }
      ]
    }
  ]
}