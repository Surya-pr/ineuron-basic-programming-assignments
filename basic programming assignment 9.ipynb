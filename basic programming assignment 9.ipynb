{
  "nbformat": 4,
  "nbformat_minor": 0,
  "metadata": {
    "colab": {
      "name": "Untitled9.ipynb",
      "provenance": []
    },
    "kernelspec": {
      "name": "python3",
      "display_name": "Python 3"
    },
    "language_info": {
      "name": "python"
    }
  },
  "cells": [
    {
      "cell_type": "markdown",
      "metadata": {
        "id": "65rx8jtkj2uO"
      },
      "source": [
        "**Write a Python program to check if the given number is a Disarium Number?**"
      ]
    },
    {
      "cell_type": "code",
      "metadata": {
        "colab": {
          "base_uri": "https://localhost:8080/"
        },
        "id": "fLwE7wJOj8Pq",
        "outputId": "601cc167-9006-4d2e-dc53-ebce0f6c8a72"
      },
      "source": [
        "a=int(input(\"Enter the input number \"))\n",
        "a1=a\n",
        "b=len(str(a))\n",
        "k=0\n",
        "for i in range(b,0,-1):\n",
        "  if a>0:\n",
        "    b=a%10\n",
        "    c=b**i\n",
        "    k=k+c\n",
        "    a=a//10\n",
        "if a1==k:\n",
        "  print(\"disarium Number \")  \n",
        "else:\n",
        "  print(\"Not a disarium number\") \n"
      ],
      "execution_count": 1,
      "outputs": [
        {
          "output_type": "stream",
          "text": [
            "Enter the input number 518\n",
            "disarium Number \n"
          ],
          "name": "stdout"
        }
      ]
    },
    {
      "cell_type": "markdown",
      "metadata": {
        "id": "PIcF0GSdmaNi"
      },
      "source": [
        "**Write a Python program to print all disarium numbers between 1 to 100?**"
      ]
    },
    {
      "cell_type": "code",
      "metadata": {
        "colab": {
          "base_uri": "https://localhost:8080/"
        },
        "id": "LkiVMxSbmexH",
        "outputId": "afe823cb-51cc-4987-f996-1c75fc60fabb"
      },
      "source": [
        "z=[]\n",
        "for i in range(1,101):\n",
        "  a=i\n",
        "  a1=a\n",
        "  b=len(str(a))\n",
        "  k=0\n",
        "  for j in range(b,0,-1):\n",
        "    if a>0:\n",
        "      b=a%10\n",
        "      c=b**j\n",
        "      k=k+c\n",
        "      a=a//10\n",
        "  if a1==k:\n",
        "    z.append(k)\n",
        "  else:\n",
        "    continue\n",
        "print(\"all disarium numbers between 1 to 100 are \",z)\n",
        "\n",
        "  "
      ],
      "execution_count": 2,
      "outputs": [
        {
          "output_type": "stream",
          "text": [
            "all disarium numbers between 1 to 100 are  [1, 2, 3, 4, 5, 6, 7, 8, 9, 89]\n"
          ],
          "name": "stdout"
        }
      ]
    },
    {
      "cell_type": "markdown",
      "metadata": {
        "id": "HO3FlKl0qF16"
      },
      "source": [
        "**Write a Python program to check if the given number is Happy Number?**"
      ]
    },
    {
      "cell_type": "code",
      "metadata": {
        "colab": {
          "base_uri": "https://localhost:8080/"
        },
        "id": "nAifTy7KqH0l",
        "outputId": "4448d577-e58c-48ac-ffa6-78d421ee9a28"
      },
      "source": [
        "a=int(input(\"Enter the input number \"))\n",
        "k=a\n",
        "def test1(a):\n",
        "  k=0\n",
        "  while a>0:\n",
        "    b=a%10\n",
        "    c=b**2\n",
        "    k=k+c\n",
        "    a=a//10\n",
        "  return k\n",
        "while k != 1 and k != 4:\n",
        "  k=test1(k)\n",
        "if k==1:\n",
        "  print(\"Happy Number \")  \n",
        "else:\n",
        "  print(\"Not a Happy Number \")   \n"
      ],
      "execution_count": 3,
      "outputs": [
        {
          "output_type": "stream",
          "text": [
            "Enter the input number 94\n",
            "Happy Number \n"
          ],
          "name": "stdout"
        }
      ]
    },
    {
      "cell_type": "markdown",
      "metadata": {
        "id": "03ranWMwE7cb"
      },
      "source": [
        "**Write a Python program to print all happy numbers between 1 and 100?**"
      ]
    },
    {
      "cell_type": "code",
      "metadata": {
        "colab": {
          "base_uri": "https://localhost:8080/"
        },
        "id": "br1p4SSAE--s",
        "outputId": "36f3fdca-99b8-4784-ff2e-47896784eca4"
      },
      "source": [
        "list=[]\n",
        "for i in range(1,101):\n",
        "  k=i\n",
        "  def test1(a):\n",
        "    k=0\n",
        "    while a>0:\n",
        "      b=a%10\n",
        "      c=b**2\n",
        "      k=k+c\n",
        "      a=a//10\n",
        "    return k\n",
        "  while k != 1 and k != 4:\n",
        "    k=test1(k)\n",
        "  if k==1:\n",
        "    list.append(i) \n",
        "  else:\n",
        "    continue \n",
        "print(\"All happy numbers between 1 and 100 are \",list)"
      ],
      "execution_count": 4,
      "outputs": [
        {
          "output_type": "stream",
          "text": [
            "All happy numbers between 1 and 100 are  [1, 7, 10, 13, 19, 23, 28, 31, 32, 44, 49, 68, 70, 79, 82, 86, 91, 94, 97, 100]\n"
          ],
          "name": "stdout"
        }
      ]
    },
    {
      "cell_type": "markdown",
      "metadata": {
        "id": "B5ROBdFrF9_C"
      },
      "source": [
        "**Write a Python program to determine whether the given number is a Harshad Number?**"
      ]
    },
    {
      "cell_type": "code",
      "metadata": {
        "colab": {
          "base_uri": "https://localhost:8080/"
        },
        "id": "YqHlxcPaGBiB",
        "outputId": "e8d6d216-7218-4179-bd9d-8564b7a74dbd"
      },
      "source": [
        "a=int(input(\"Enter the input number \"))\n",
        "a1=a\n",
        "k=0\n",
        "while a>0:\n",
        "    b=a%10\n",
        "    k=k+b\n",
        "    a=a//10\n",
        "if a1%k ==0:\n",
        "  print(\"Harshad Number \")  \n",
        "else:\n",
        "  print(\"Not a Harshad number\") \n"
      ],
      "execution_count": 5,
      "outputs": [
        {
          "output_type": "stream",
          "text": [
            "Enter the input number 153\n",
            "Harshad Number \n"
          ],
          "name": "stdout"
        }
      ]
    },
    {
      "cell_type": "markdown",
      "metadata": {
        "id": "dc9IfyU_PaH5"
      },
      "source": [
        "**Write a Python program to print all pronic numbers between 1 and 100?**"
      ]
    },
    {
      "cell_type": "code",
      "metadata": {
        "colab": {
          "base_uri": "https://localhost:8080/"
        },
        "id": "JmLu0EUMPeme",
        "outputId": "980d341d-22f1-47f6-b383-c6ad5927c898"
      },
      "source": [
        "a=[]\n",
        "for i in range(1,101):\n",
        "  for j in range(1,i+1):\n",
        "    if(i==j*(j+1)):\n",
        "      a.append(i)\n",
        "print(\"Pronic numbers between 1 and 100 are \",a)      \n"
      ],
      "execution_count": 6,
      "outputs": [
        {
          "output_type": "stream",
          "text": [
            "Pronic numbers between 1 and 100 are  [2, 6, 12, 20, 30, 42, 56, 72, 90]\n"
          ],
          "name": "stdout"
        }
      ]
    }
  ]
}